{
 "cells": [
  {
   "cell_type": "code",
   "execution_count": 1,
   "id": "66b3da28",
   "metadata": {},
   "outputs": [],
   "source": [
    "import cv2\n",
    "\n",
    "img1 = cv2.imread(\"bit1.jpg\",0)\n",
    "img2 = cv2.imread(\"bit2.jpg\",1)\n",
    "\n",
    "img = cv2.resize(img1,(0,0),fx=0.5,fy=0.5)\n",
    "cv2.imshow(\"output/new_Image_program1.jpg\",img)\n",
    "cv2.waitKey(0)\n",
    "\n",
    "img = cv2.resize(img2,(0,0),fx=0.5,fy=0.5)\n",
    "cv2.imshow(\"output/new_Image_program1_2.jpg\",img)\n",
    "cv2.waitKey(0)\n",
    "\n",
    "\n",
    "\n",
    "cv2.destroyAllWindows()"
   ]
  },
  {
   "cell_type": "code",
   "execution_count": 2,
   "id": "95b8ffa7",
   "metadata": {},
   "outputs": [],
   "source": [
    "import cv2\n",
    "\n",
    "img1 = cv2.imread(\"img3.jpg\")\n",
    "\n",
    "img = cv2.resize(img1,(0,0),fx=0.3,fy=0.3)\n",
    "img = cv2.cvtColor(img,cv2.COLOR_BGR2HLS)\n",
    "cv2.imshow(\"output/new_Image_program2.jpg\",img)\n",
    "cv2.waitKey(0)\n",
    "\n",
    "cv2.destroyAllWindows()"
   ]
  },
  {
   "cell_type": "code",
   "execution_count": 3,
   "id": "0a8697cd",
   "metadata": {},
   "outputs": [
    {
     "name": "stdout",
     "output_type": "stream",
     "text": [
      "Manhatten Distance 400\n",
      "Euclidian Distance 282.842712474619\n"
     ]
    }
   ],
   "source": [
    "import cv2\n",
    "\n",
    "img = cv2.resize(cv2.imread(\"img3.jpg\"),(0,0),fx=0.1,fy=0.1)\n",
    "\n",
    "def showImage(img,name=\"image\"):\n",
    "    cv2.imshow(name,img)\n",
    "    cv2.waitKey(0)\n",
    "\n",
    "#showImage(img,\"Image\")\n",
    "\n",
    "def manHattenDistance(x1,y1,x2,y2):\n",
    "    return (abs(x1-x2)+abs(y1-y2))\n",
    "\n",
    "def euclidianDistance(x1,y1,x2,y2):\n",
    "    return (((x1-x2)**2)+((y1-y2)**2))**0.5\n",
    "\n",
    "showImage(cv2.line(img, (100,200), (300,400), (0,0,255), 1),\"Distance\")\n",
    "\n",
    "print(\"Manhatten Distance\",manHattenDistance(100,200,300,400))\n",
    "\n",
    "print(\"Euclidian Distance\",euclidianDistance(100,200,300,400))\n",
    "\n",
    "cv2.destroyAllWindows()"
   ]
  },
  {
   "cell_type": "code",
   "execution_count": 2,
   "id": "f1bc5e24",
   "metadata": {},
   "outputs": [
    {
     "name": "stdout",
     "output_type": "stream",
     "text": [
      "Collecting pysimplegui\n",
      "  Downloading PySimpleGUI-4.60.4-py3-none-any.whl (509 kB)\n",
      "     ------------------------------------ 510.0/510.0 kB 542.6 kB/s eta 0:00:00\n",
      "Installing collected packages: pysimplegui\n",
      "Successfully installed pysimplegui-4.60.4\n"
     ]
    }
   ],
   "source": [
    "!pip install pysimplegui"
   ]
  },
  {
   "cell_type": "code",
   "execution_count": 6,
   "id": "fb9dfc06",
   "metadata": {},
   "outputs": [],
   "source": [
    "import PySimpleGUI"
   ]
  },
  {
   "cell_type": "code",
   "execution_count": 7,
   "id": "ae11551e",
   "metadata": {},
   "outputs": [
    {
     "name": "stdout",
     "output_type": "stream",
     "text": [
      "No file selected\n"
     ]
    }
   ],
   "source": [
    "import os\n",
    "import PySimpleGUI as sg\n",
    "\n",
    "def get_file_path():\n",
    "    layout = [[sg.Text('Select a file')],\n",
    "              [sg.Input(), sg.FileBrowse()],\n",
    "              [sg.OK(), sg.Cancel()]]\n",
    "\n",
    "    window = sg.Window('File Selector').Layout(layout)\n",
    "    event, values = window.Read()\n",
    "    window.Close()\n",
    "\n",
    "    if event == 'OK':\n",
    "        return values[0]\n",
    "    else:\n",
    "        return None\n",
    "\n",
    "file_path = get_file_path()\n",
    "\n",
    "if file_path:\n",
    "    print(f'Selected file: {file_path}')\n",
    "else:\n",
    "    print('No file selected')"
   ]
  },
  {
   "cell_type": "code",
   "execution_count": 6,
   "id": "5885fc38",
   "metadata": {},
   "outputs": [],
   "source": [
    "import cv2\n",
    "file = cv2.imread(file_path)\n",
    "cv2.imshow(\"file\",file)\n",
    "cv2.waitKey(0)\n",
    "cv2.destroyAllWindows()"
   ]
  },
  {
   "cell_type": "code",
   "execution_count": null,
   "id": "34dc5e8e",
   "metadata": {},
   "outputs": [],
   "source": [
    "!pip install jupyter_contrib_nbextensions"
   ]
  },
  {
   "cell_type": "code",
   "execution_count": null,
   "id": "0be9f691",
   "metadata": {},
   "outputs": [],
   "source": [
    "import cv2\n",
    "import numpy as np\n",
    "\n",
    "img = cv2.imread(\"img2.jpg\")\n",
    "\n",
    "def showImage(img,name=\"Image\"):\n",
    "    cv2.imshow(name,img)\n",
    "    cv2.waitKey(0)\n",
    "\n",
    "def imageKMeans(img,k):\n",
    "    pixel_vals = img.reshape((-1,3))\n",
    "    pixel_vals = np.float32(pixel_vals)\n",
    "\n",
    "    criteria = (cv2.TERM_CRITERIA_EPS + cv2.TERM_CRITERIA_MAX_ITER, 100, 0.85)\n",
    "\n",
    "    retval, labels, centers = cv2.kmeans(pixel_vals, k,None, criteria, 10, cv2.KMEANS_RANDOM_CENTERS)\n",
    "\n",
    "    centers = np.uint8(centers)\n",
    "    segmented_data = centers[labels.flatten()]\n",
    "    segmented_image = segmented_data.reshape((img.shape))\n",
    "    showImage(segmented_image,\"k = \"+str(k))\n",
    "\n",
    "showImage(img)\n",
    "for i in range(2,11):\n",
    "    imageKMeans(img,i)\n",
    "\n",
    "cv2.destroyAllWindows()"
   ]
  },
  {
   "cell_type": "code",
   "execution_count": null,
   "id": "77e9a202",
   "metadata": {},
   "outputs": [],
   "source": []
  }
 ],
 "metadata": {
  "kernelspec": {
   "display_name": "Python 3 (ipykernel)",
   "language": "python",
   "name": "python3"
  },
  "language_info": {
   "codemirror_mode": {
    "name": "ipython",
    "version": 3
   },
   "file_extension": ".py",
   "mimetype": "text/x-python",
   "name": "python",
   "nbconvert_exporter": "python",
   "pygments_lexer": "ipython3",
   "version": "3.9.7"
  }
 },
 "nbformat": 4,
 "nbformat_minor": 5
}
