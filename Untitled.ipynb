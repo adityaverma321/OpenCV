{
 "cells": [
  {
   "cell_type": "code",
   "execution_count": 1,
   "id": "66b3da28",
   "metadata": {},
   "outputs": [],
   "source": [
    "import cv2\n",
    "\n",
    "img1 = cv2.imread(\"bit1.jpg\",0)\n",
    "img2 = cv2.imread(\"bit2.jpg\",1)\n",
    "\n",
    "img = cv2.resize(img1,(0,0),fx=0.5,fy=0.5)\n",
    "cv2.imshow(\"output/new_Image_program1.jpg\",img)\n",
    "cv2.waitKey(0)\n",
    "\n",
    "img = cv2.resize(img2,(0,0),fx=0.5,fy=0.5)\n",
    "cv2.imshow(\"output/new_Image_program1_2.jpg\",img)\n",
    "cv2.waitKey(0)\n",
    "\n",
    "\n",
    "\n",
    "cv2.destroyAllWindows()"
   ]
  },
  {
   "cell_type": "code",
   "execution_count": 2,
   "id": "95b8ffa7",
   "metadata": {},
   "outputs": [],
   "source": [
    "import cv2\n",
    "\n",
    "img1 = cv2.imread(\"img3.jpg\")\n",
    "\n",
    "img = cv2.resize(img1,(0,0),fx=0.3,fy=0.3)\n",
    "img = cv2.cvtColor(img,cv2.COLOR_BGR2HLS)\n",
    "cv2.imshow(\"output/new_Image_program2.jpg\",img)\n",
    "cv2.waitKey(0)\n",
    "\n",
    "cv2.destroyAllWindows()"
   ]
  },
  {
   "cell_type": "code",
   "execution_count": 3,
   "id": "0a8697cd",
   "metadata": {},
   "outputs": [
    {
     "name": "stdout",
     "output_type": "stream",
     "text": [
      "Manhatten Distance 400\n",
      "Euclidian Distance 282.842712474619\n"
     ]
    }
   ],
   "source": [
    "import cv2\n",
    "\n",
    "img = cv2.resize(cv2.imread(\"img3.jpg\"),(0,0),fx=0.1,fy=0.1)\n",
    "\n",
    "def showImage(img,name=\"image\"):\n",
    "    cv2.imshow(name,img)\n",
    "    cv2.waitKey(0)\n",
    "\n",
    "#showImage(img,\"Image\")\n",
    "\n",
    "def manHattenDistance(x1,y1,x2,y2):\n",
    "    return (abs(x1-x2)+abs(y1-y2))\n",
    "\n",
    "def euclidianDistance(x1,y1,x2,y2):\n",
    "    return (((x1-x2)**2)+((y1-y2)**2))**0.5\n",
    "\n",
    "showImage(cv2.line(img, (100,200), (300,400), (0,0,255), 1),\"Distance\")\n",
    "\n",
    "print(\"Manhatten Distance\",manHattenDistance(100,200,300,400))\n",
    "\n",
    "print(\"Euclidian Distance\",euclidianDistance(100,200,300,400))\n",
    "\n",
    "cv2.destroyAllWindows()"
   ]
  },
  {
   "cell_type": "code",
   "execution_count": null,
   "id": "0d71a006",
   "metadata": {},
   "outputs": [],
   "source": []
  }
 ],
 "metadata": {
  "kernelspec": {
   "display_name": "Python 3 (ipykernel)",
   "language": "python",
   "name": "python3"
  },
  "language_info": {
   "codemirror_mode": {
    "name": "ipython",
    "version": 3
   },
   "file_extension": ".py",
   "mimetype": "text/x-python",
   "name": "python",
   "nbconvert_exporter": "python",
   "pygments_lexer": "ipython3",
   "version": "3.9.7"
  }
 },
 "nbformat": 4,
 "nbformat_minor": 5
}
